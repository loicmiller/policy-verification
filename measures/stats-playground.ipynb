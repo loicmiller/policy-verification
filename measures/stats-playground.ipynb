{
 "cells": [
  {
   "cell_type": "markdown",
   "metadata": {},
   "source": [
    "# Imports\n",
    "***"
   ]
  },
  {
   "cell_type": "code",
   "execution_count": 1,
   "metadata": {},
   "outputs": [],
   "source": [
    "import pandas as pd\n",
    "import matplotlib.pyplot as plt\n",
    "import numpy as np\n",
    "import seaborn as sns\n",
    "import warnings\n",
    "from pylab import rcParams\n",
    "\n",
    "%matplotlib inline\n",
    "warnings.filterwarnings(\"ignore\")\n",
    "rcParams['figure.figsize'] = 20,10\n",
    "rcParams['font.size'] = 30\n",
    "sns.set()\n",
    "np.random.seed(8)"
   ]
  },
  {
   "cell_type": "markdown",
   "metadata": {},
   "source": [
    "# Loading and visualizing data\n",
    "***"
   ]
  },
  {
   "cell_type": "code",
   "execution_count": null,
   "metadata": {},
   "outputs": [],
   "source": [
    "header_list = [\"spec_name\", \"impl_name\", \"set_size\", \"edge_prob\", \"policy_size\", \"spec_len\", \"rego_lines_of_code\", \"error_rate\", \"edge_number\", \"comp_cum_time\", \"result\"]\n",
    "df = pd.read_csv(\"equivalence.dat\", sep=';', usecols=[0,1,2,3,4,5,6,7,8,9,10], names=header_list)\n",
    "\n",
    "chunks = pd.read_csv(\"equivalence.dat\", sep=';', usecols=[0,1,2,3,4,5,6,7,8,9,10], names=header_list, chunksize=50000)\n",
    "slim_data = []\n",
    "for chunk in chunks:\n",
    "    chunk[\"comp_cum_time\"] *= 1000\n",
    "    slim_data.append(chunk)\n",
    "df = pd.concat(slim_data)\n",
    "\n",
    "# Seconds to Milliseconds\n",
    "#df[\"comp_cum_time\"] *= 1000\n",
    "\n",
    "df"
   ]
  },
  {
   "cell_type": "markdown",
   "metadata": {},
   "source": [
    "# Removing outliers and harmonizing sample size\n",
    "***"
   ]
  },
  {
   "cell_type": "code",
   "execution_count": null,
   "metadata": {},
   "outputs": [],
   "source": [
    "# All values of predictors\n",
    "set_sizes = sorted(df.set_size.unique())\n",
    "policy_sizes = sorted(df.policy_size.unique())\n",
    "error_rates = sorted(df.error_rate.unique())\n",
    "\n",
    "\n",
    "# Removing 0.7 error rates values from data\n",
    "#error_rates = error_rates[:-1]\n",
    "\n",
    "\n",
    "print(\"Used values:\")\n",
    "print(\"Set sizes: {}\".format(set_sizes))\n",
    "print(\"Policy sizes: {}\".format(policy_sizes))\n",
    "print(\"Error rates: {}\".format(error_rates))\n",
    "print(\"\")\n",
    "\n",
    "\n",
    "# Making list of DFs by predictors\n",
    "preds_df_list = []\n",
    "labels = []\n",
    "for set_size in set_sizes:\n",
    "    for policy_size in policy_sizes:\n",
    "        for error_rate in error_rates:\n",
    "            print(\"DF parameters: {} {} {}\".format(set_size, policy_size, error_rate))\n",
    "            labels.append(\"{} {} {}\".format(set_size, policy_size, error_rate))\n",
    "            preds_df_list.append(df[(df.set_size == set_size) & (df.policy_size == policy_size) & (df.error_rate == error_rate)])\n",
    "print(\"\\n\")\n",
    "\n",
    "\n",
    "print(\"Unmodified DF shapes\")\n",
    "for pred_df in preds_df_list:\n",
    "    print(pred_df.shape)\n",
    "print(\"\\n\")\n",
    "\n",
    "\n",
    "# Removing outliers in DFs\n",
    "new_preds_df_list = []\n",
    "for pred_df in preds_df_list: # Remove all values with Z-score > 3\n",
    "    new_preds_df_list.append( pred_df[np.abs(pred_df.comp_cum_time-pred_df.comp_cum_time.mean()) <= (3*pred_df.comp_cum_time.std())] )\n",
    "preds_df_list = new_preds_df_list\n",
    "\n",
    "\n",
    "# Print DF shapes to check sample sizes, put them in list\n",
    "preds_df_list_sample_sizes = []\n",
    "print(\"No outliers DF shapes\")\n",
    "for pred_df in preds_df_list:\n",
    "    print(pred_df.shape)\n",
    "    preds_df_list_sample_sizes.append(pred_df.shape[0])\n",
    "print(\"\\n\")\n",
    "\n",
    "minimum_sample_size = min(preds_df_list_sample_sizes)\n",
    "print(\"Minimum common sample size: {}\".format(minimum_sample_size))\n",
    "\n",
    "# Make sample sizes equal\n",
    "new_preds_df_list = []\n",
    "for pred_df in preds_df_list:\n",
    "    new_preds_df_list.append(pred_df.head(minimum_sample_size))\n",
    "preds_df_list = new_preds_df_list\n",
    "\n",
    "\n",
    "# Check new DF shapes\n",
    "print(\"Modified DF shapes\")\n",
    "for pred_df in preds_df_list:\n",
    "    print(pred_df.shape)\n",
    "print(\"\\n\")"
   ]
  },
  {
   "cell_type": "markdown",
   "metadata": {},
   "source": [
    "# Merge all data back together\n",
    "***"
   ]
  },
  {
   "cell_type": "code",
   "execution_count": null,
   "metadata": {},
   "outputs": [],
   "source": [
    "merged_df = pd.DataFrame()\n",
    "for pred_df in preds_df_list:\n",
    "    merged_df = merged_df.append(pred_df)\n",
    "\n",
    "df = merged_df\n",
    "\n",
    "df"
   ]
  }
 ],
 "metadata": {
  "kernelspec": {
   "display_name": "Python 3",
   "language": "python",
   "name": "python3"
  },
  "language_info": {
   "codemirror_mode": {
    "name": "ipython",
    "version": 3
   },
   "file_extension": ".py",
   "mimetype": "text/x-python",
   "name": "python",
   "nbconvert_exporter": "python",
   "pygments_lexer": "ipython3",
   "version": "3.6.9"
  }
 },
 "nbformat": 4,
 "nbformat_minor": 4
}
